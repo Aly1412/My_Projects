{
 "cells": [
  {
   "cell_type": "code",
   "execution_count": 19,
   "id": "77bc9ae8",
   "metadata": {},
   "outputs": [],
   "source": [
    "import pandas as pd\n",
    "import numpy as np\n",
    "from datetime import datetime\n",
    "import matplotlib.pyplot as plt\n",
    "import random"
   ]
  },
  {
   "cell_type": "code",
   "execution_count": 20,
   "id": "20c9fa81",
   "metadata": {},
   "outputs": [
    {
     "data": {
      "text/html": [
       "<div>\n",
       "<style scoped>\n",
       "    .dataframe tbody tr th:only-of-type {\n",
       "        vertical-align: middle;\n",
       "    }\n",
       "\n",
       "    .dataframe tbody tr th {\n",
       "        vertical-align: top;\n",
       "    }\n",
       "\n",
       "    .dataframe thead th {\n",
       "        text-align: right;\n",
       "    }\n",
       "</style>\n",
       "<table border=\"1\" class=\"dataframe\">\n",
       "  <thead>\n",
       "    <tr style=\"text-align: right;\">\n",
       "      <th></th>\n",
       "      <th>Date/Time</th>\n",
       "      <th>Air Temperature</th>\n",
       "      <th>Temperature</th>\n",
       "      <th>BPM</th>\n",
       "      <th>Sys</th>\n",
       "      <th>Dias</th>\n",
       "      <th>Activity</th>\n",
       "      <th>Unnamed: 7</th>\n",
       "      <th>Unnamed: 8</th>\n",
       "      <th>Unnamed: 9</th>\n",
       "      <th>Unnamed: 10</th>\n",
       "    </tr>\n",
       "  </thead>\n",
       "  <tbody>\n",
       "    <tr>\n",
       "      <th>0</th>\n",
       "      <td>2022-07-01 00:00:00</td>\n",
       "      <td>31</td>\n",
       "      <td>NaN</td>\n",
       "      <td>NaN</td>\n",
       "      <td>NaN</td>\n",
       "      <td>NaN</td>\n",
       "      <td>Sleeping</td>\n",
       "      <td>NaN</td>\n",
       "      <td>NaN</td>\n",
       "      <td>NaN</td>\n",
       "      <td>NaN</td>\n",
       "    </tr>\n",
       "    <tr>\n",
       "      <th>1</th>\n",
       "      <td>2022-07-01 01:00:00</td>\n",
       "      <td>31</td>\n",
       "      <td>NaN</td>\n",
       "      <td>NaN</td>\n",
       "      <td>NaN</td>\n",
       "      <td>NaN</td>\n",
       "      <td>Sleeping</td>\n",
       "      <td>NaN</td>\n",
       "      <td>NaN</td>\n",
       "      <td>Assumptions</td>\n",
       "      <td>NaN</td>\n",
       "    </tr>\n",
       "    <tr>\n",
       "      <th>2</th>\n",
       "      <td>2022-07-01 02:00:00</td>\n",
       "      <td>30</td>\n",
       "      <td>NaN</td>\n",
       "      <td>NaN</td>\n",
       "      <td>NaN</td>\n",
       "      <td>NaN</td>\n",
       "      <td>Sleeping</td>\n",
       "      <td>NaN</td>\n",
       "      <td>NaN</td>\n",
       "      <td>air temp</td>\n",
       "      <td>39/25</td>\n",
       "    </tr>\n",
       "    <tr>\n",
       "      <th>3</th>\n",
       "      <td>2022-07-01 03:00:00</td>\n",
       "      <td>30</td>\n",
       "      <td>NaN</td>\n",
       "      <td>NaN</td>\n",
       "      <td>NaN</td>\n",
       "      <td>NaN</td>\n",
       "      <td>Sleeping</td>\n",
       "      <td>NaN</td>\n",
       "      <td>NaN</td>\n",
       "      <td>body temp</td>\n",
       "      <td>36.27</td>\n",
       "    </tr>\n",
       "    <tr>\n",
       "      <th>4</th>\n",
       "      <td>2022-07-01 04:00:00</td>\n",
       "      <td>30</td>\n",
       "      <td>NaN</td>\n",
       "      <td>NaN</td>\n",
       "      <td>NaN</td>\n",
       "      <td>NaN</td>\n",
       "      <td>Sleeping</td>\n",
       "      <td>NaN</td>\n",
       "      <td>NaN</td>\n",
       "      <td>BPM</td>\n",
       "      <td>65</td>\n",
       "    </tr>\n",
       "  </tbody>\n",
       "</table>\n",
       "</div>"
      ],
      "text/plain": [
       "            Date/Time  Air Temperature  Temperature  BPM  Sys  Dias  Activity  \\\n",
       "0 2022-07-01 00:00:00               31          NaN  NaN  NaN   NaN  Sleeping   \n",
       "1 2022-07-01 01:00:00               31          NaN  NaN  NaN   NaN  Sleeping   \n",
       "2 2022-07-01 02:00:00               30          NaN  NaN  NaN   NaN  Sleeping   \n",
       "3 2022-07-01 03:00:00               30          NaN  NaN  NaN   NaN  Sleeping   \n",
       "4 2022-07-01 04:00:00               30          NaN  NaN  NaN   NaN  Sleeping   \n",
       "\n",
       "   Unnamed: 7  Unnamed: 8   Unnamed: 9 Unnamed: 10  \n",
       "0         NaN         NaN          NaN         NaN  \n",
       "1         NaN         NaN  Assumptions         NaN  \n",
       "2         NaN         NaN     air temp       39/25  \n",
       "3         NaN         NaN    body temp       36.27  \n",
       "4         NaN         NaN          BPM          65  "
      ]
     },
     "execution_count": 20,
     "metadata": {},
     "output_type": "execute_result"
    }
   ],
   "source": [
    "df=pd.read_excel(\"D:\\dataset_fyp\\\\abc.xlsx\")\n",
    "df.head(5)"
   ]
  },
  {
   "cell_type": "code",
   "execution_count": 21,
   "id": "de741fa9",
   "metadata": {},
   "outputs": [
    {
     "name": "stdout",
     "output_type": "stream",
     "text": [
      "                 Date/Time  Air Temperature  Temperature  BPM  Sys  Dias  \\\n",
      "0  2022-07-01 00:00:00.000               31          0.0  0.0  0.0   0.0   \n",
      "1  2022-07-01 01:00:00.000               31          0.0  0.0  0.0   0.0   \n",
      "2  2022-07-01 02:00:00.000               30          0.0  0.0  0.0   0.0   \n",
      "3  2022-07-01 03:00:00.000               30          0.0  0.0  0.0   0.0   \n",
      "4  2022-07-01 04:00:00.000               30          0.0  0.0  0.0   0.0   \n",
      "\n",
      "   Activity  \n",
      "0  Sleeping  \n",
      "1  Sleeping  \n",
      "2  Sleeping  \n",
      "3  Sleeping  \n",
      "4  Sleeping  \n",
      "[['2022-07-01 00:00:00.000' 31 0.0 ... 0.0 0.0 'Sleeping']\n",
      " ['2022-07-01 01:00:00.000' 31 0.0 ... 0.0 0.0 'Sleeping']\n",
      " ['2022-07-01 02:00:00.000' 30 0.0 ... 0.0 0.0 'Sleeping']\n",
      " ...\n",
      " ['2022-07-30 20:59:59.535' 28 0.0 ... 0.0 0.0 'Walking']\n",
      " ['2022-07-30 21:59:59.530' 28 0.0 ... 0.0 0.0 'Walking']\n",
      " ['2022-07-30 22:59:59.525' 28 0.0 ... 0.0 0.0 'Sitting']]\n"
     ]
    }
   ],
   "source": [
    "df=df.iloc[:,0:7]\n",
    "df=df.fillna(0)\n",
    "df['Date/Time']=df['Date/Time'].astype('str')\n",
    "#df.set_index('Date/Time',inplace=True)\n",
    "print(df.head(5))\n",
    "df.dtypes\n",
    "data=df.values\n",
    "data=np.array(data)\n",
    "print(np.array(data))"
   ]
  },
  {
   "cell_type": "code",
   "execution_count": 22,
   "id": "8619fdd4",
   "metadata": {},
   "outputs": [],
   "source": [
    "avgtemp = 36.27\n",
    "avgsys = 110\n",
    "avgdias = 70\n",
    "avghr = 81\n",
    "itemp = 0.1\n",
    "dtemp = -0.1\n",
    "#mtemp = 0.25\n",
    "#etemp = 0.5\n",
    "#atemp = -0.25\n",
    "#ntemp = -0.5\n",
    "wsys = -4.11\n",
    "wdias = -1.79\n",
    "wtemp = 0.25\n",
    "whr = (60*avghr)/100\n",
    "stsys = -((5*avgsys)/100)\n",
    "stdias = -((5*avgdias)/100)\n",
    "sttemp = 0\n",
    "sthr = -((7*avghr)/100)\n",
    "slsys = -((10*avgsys)/100)\n",
    "sldias = -((10*avgdias)/100)\n",
    "sltemp = -0.5\n",
    "slhr = -((20*avghr)/100)"
   ]
  },
  {
   "cell_type": "code",
   "execution_count": 23,
   "id": "c29832eb",
   "metadata": {},
   "outputs": [],
   "source": [
    "data1=data\n",
    "for i in range(len(data1)):\n",
    "    dtime=str(data1[i][0])\n",
    "    dtime=dtime.replace(' ','')\n",
    "    dtime=dtime.replace('-','')\n",
    "    dtime=dtime.replace(':','')\n",
    "    dtime=int(dtime[8:10])\n",
    "    \n",
    "    if data1[i][1] > 35: data1[i][2]=avgtemp+(2*itemp)+random.uniform(0.1,0.2)\n",
    "    if data1[i][1] > 30 and data1[i][1] < 35: data1[i][2]=avgtemp+itemp+random.uniform(0.1,0.2)\n",
    "    if data1[i][1] > 25 and data1[i][1] < 30: data1[i][2]=avgtemp+dtemp+random.uniform(0.1,0.2)\n",
    "    if data1[i][1] < 25: data1[i][2]=avgtemp+(2*dtemp)+random.uniform(0.1,0.2)\n",
    "        \n",
    "    #if dtime < 12:\n",
    "    #    if data1[i][1] > avgtemp:\n",
    "    #        data1[i][2]=avgtemp+mtemp+random.uniform(0.1,0.5)\n",
    "    #elif dtime >= 12 and dtime < 16:\n",
    "    #    data1[i][2]=avgtemp+etemp+random.uniform(0.1,0.5)\n",
    "    #elif dtime >= 16 and dtime < 20:\n",
    "    #    data1[i][2]=avgtemp+atemp+random.uniform(0.1,0.5)\n",
    "    #elif dtime >=20:\n",
    "    #    data1[i][2]=avgtemp+ntemp+random.uniform(0.1,0.5)\n",
    "        \n",
    "    if data1[i][6]=='Sleeping':\n",
    "        data1[i][4]=avgsys+slsys+random.randrange(2,6)\n",
    "        data1[i][5]=avgdias+sldias+random.randrange(2,6)\n",
    "        data1[i][2]=avgtemp+sltemp+random.uniform(0.1,0.5)\n",
    "        data1[i][3]=avghr+slhr+random.randrange(1,3)\n",
    "        \n",
    "    elif data1[i][6]=='Sitting':\n",
    "        data1[i][4]=avgsys+stsys+random.randrange(2,6)\n",
    "        data1[i][5]=avgdias+stdias+random.randrange(2,6)\n",
    "        data1[i][2]=avgtemp+sttemp+random.uniform(0.1,0.5)\n",
    "        data1[i][3]=avghr+sthr+random.randrange(1,3)\n",
    "        \n",
    "    elif data1[i][6]=='Walking':\n",
    "        data1[i][4]=avgsys+wsys+random.randrange(2,6)\n",
    "        data1[i][5]=avgdias+wdias+random.randrange(2,6)\n",
    "        data1[i][2]=avgtemp+wtemp+random.uniform(0.1,0.5)\n",
    "        data1[i][3]=avghr+whr+random.randrange(1,3)\n"
   ]
  },
  {
   "cell_type": "code",
   "execution_count": 24,
   "id": "da3a3e0e",
   "metadata": {},
   "outputs": [
    {
     "data": {
      "text/html": [
       "<div>\n",
       "<style scoped>\n",
       "    .dataframe tbody tr th:only-of-type {\n",
       "        vertical-align: middle;\n",
       "    }\n",
       "\n",
       "    .dataframe tbody tr th {\n",
       "        vertical-align: top;\n",
       "    }\n",
       "\n",
       "    .dataframe thead th {\n",
       "        text-align: right;\n",
       "    }\n",
       "</style>\n",
       "<table border=\"1\" class=\"dataframe\">\n",
       "  <thead>\n",
       "    <tr style=\"text-align: right;\">\n",
       "      <th></th>\n",
       "      <th>Air Temperature</th>\n",
       "      <th>Temperature</th>\n",
       "      <th>BPM</th>\n",
       "      <th>Sys</th>\n",
       "      <th>Dias</th>\n",
       "      <th>Activity</th>\n",
       "    </tr>\n",
       "    <tr>\n",
       "      <th>Date/Time</th>\n",
       "      <th></th>\n",
       "      <th></th>\n",
       "      <th></th>\n",
       "      <th></th>\n",
       "      <th></th>\n",
       "      <th></th>\n",
       "    </tr>\n",
       "  </thead>\n",
       "  <tbody>\n",
       "    <tr>\n",
       "      <th>2022-07-01 00:00:00.000</th>\n",
       "      <td>31</td>\n",
       "      <td>36.020782</td>\n",
       "      <td>66.8</td>\n",
       "      <td>103.0</td>\n",
       "      <td>67.0</td>\n",
       "      <td>Sleeping</td>\n",
       "    </tr>\n",
       "    <tr>\n",
       "      <th>2022-07-01 01:00:00.000</th>\n",
       "      <td>31</td>\n",
       "      <td>36.241318</td>\n",
       "      <td>66.8</td>\n",
       "      <td>103.0</td>\n",
       "      <td>66.0</td>\n",
       "      <td>Sleeping</td>\n",
       "    </tr>\n",
       "    <tr>\n",
       "      <th>2022-07-01 02:00:00.000</th>\n",
       "      <td>30</td>\n",
       "      <td>35.958498</td>\n",
       "      <td>65.8</td>\n",
       "      <td>103.0</td>\n",
       "      <td>68.0</td>\n",
       "      <td>Sleeping</td>\n",
       "    </tr>\n",
       "    <tr>\n",
       "      <th>2022-07-01 03:00:00.000</th>\n",
       "      <td>30</td>\n",
       "      <td>36.078727</td>\n",
       "      <td>66.8</td>\n",
       "      <td>102.0</td>\n",
       "      <td>67.0</td>\n",
       "      <td>Sleeping</td>\n",
       "    </tr>\n",
       "    <tr>\n",
       "      <th>2022-07-01 04:00:00.000</th>\n",
       "      <td>30</td>\n",
       "      <td>35.953839</td>\n",
       "      <td>65.8</td>\n",
       "      <td>101.0</td>\n",
       "      <td>67.0</td>\n",
       "      <td>Sleeping</td>\n",
       "    </tr>\n",
       "  </tbody>\n",
       "</table>\n",
       "</div>"
      ],
      "text/plain": [
       "                        Air Temperature Temperature   BPM    Sys  Dias  \\\n",
       "Date/Time                                                                \n",
       "2022-07-01 00:00:00.000              31   36.020782  66.8  103.0  67.0   \n",
       "2022-07-01 01:00:00.000              31   36.241318  66.8  103.0  66.0   \n",
       "2022-07-01 02:00:00.000              30   35.958498  65.8  103.0  68.0   \n",
       "2022-07-01 03:00:00.000              30   36.078727  66.8  102.0  67.0   \n",
       "2022-07-01 04:00:00.000              30   35.953839  65.8  101.0  67.0   \n",
       "\n",
       "                         Activity  \n",
       "Date/Time                          \n",
       "2022-07-01 00:00:00.000  Sleeping  \n",
       "2022-07-01 01:00:00.000  Sleeping  \n",
       "2022-07-01 02:00:00.000  Sleeping  \n",
       "2022-07-01 03:00:00.000  Sleeping  \n",
       "2022-07-01 04:00:00.000  Sleeping  "
      ]
     },
     "execution_count": 24,
     "metadata": {},
     "output_type": "execute_result"
    }
   ],
   "source": [
    "new=pd.DataFrame(data1,columns=['Date/Time','Air Temperature','Temperature','BPM','Sys','Dias','Activity'])\n",
    "new.set_index('Date/Time',inplace=True)\n",
    "new.head(5)"
   ]
  },
  {
   "cell_type": "code",
   "execution_count": 25,
   "id": "bf74c430",
   "metadata": {},
   "outputs": [
    {
     "data": {
      "text/plain": [
       "<AxesSubplot:xlabel='Date/Time', ylabel='Temperature'>"
      ]
     },
     "execution_count": 25,
     "metadata": {},
     "output_type": "execute_result"
    },
    {
     "data": {
      "image/png": "[encoded data removed]",
      "text/plain": [
       "<Figure size 936x288 with 1 Axes>"
      ]
     },
     "metadata": {
      "needs_background": "light"
     },
     "output_type": "display_data"
    }
   ],
   "source": [
    "temp=new[0:24]['Temperature']\n",
    "plt.figure(figsize=(13,4)) \n",
    "plt.xlabel(\"Time(t)\")\n",
    "plt.ylabel(\"Temperature\")\n",
    "temp.plot(color='red')\n"
   ]
  },
  {
   "cell_type": "code",
   "execution_count": 26,
   "id": "ea508a65",
   "metadata": {},
   "outputs": [
    {
     "data": {
      "text/plain": [
       "<AxesSubplot:xlabel='Date/Time', ylabel='BPM'>"
      ]
     },
     "execution_count": 26,
     "metadata": {},
     "output_type": "execute_result"
    },
    {
     "data": {
      "image/png": "[encoded data removed]",
      "text/plain": [
       "<Figure size 936x288 with 1 Axes>"
      ]
     },
     "metadata": {
      "needs_background": "light"
     },
     "output_type": "display_data"
    }
   ],
   "source": [
    "temp=new[0:24]['BPM']\n",
    "plt.figure(figsize=(13,4)) \n",
    "plt.xlabel(\"Time(t)\")\n",
    "plt.ylabel(\"BPM\")\n",
    "temp.plot(color='red')\n"
   ]
  },
  {
   "cell_type": "code",
   "execution_count": 27,
   "id": "37c3db4a",
   "metadata": {},
   "outputs": [
    {
     "data": {
      "text/plain": [
       "<AxesSubplot:xlabel='Date/Time', ylabel='Sys'>"
      ]
     },
     "execution_count": 27,
     "metadata": {},
     "output_type": "execute_result"
    },
    {
     "data": {
      "image/png": "[encoded data removed]",
      "text/plain": [
       "<Figure size 936x288 with 1 Axes>"
      ]
     },
     "metadata": {
      "needs_background": "light"
     },
     "output_type": "display_data"
    }
   ],
   "source": [
    "temp=new[0:24]['Sys']\n",
    "plt.figure(figsize=(13,4)) \n",
    "plt.xlabel(\"Time(t)\")\n",
    "plt.ylabel(\"Sys\")\n",
    "temp.plot(color='red')\n"
   ]
  },
  {
   "cell_type": "code",
   "execution_count": 28,
   "id": "c302534b",
   "metadata": {},
   "outputs": [
    {
     "data": {
      "text/plain": [
       "<AxesSubplot:xlabel='Date/Time', ylabel='Dias'>"
      ]
     },
     "execution_count": 28,
     "metadata": {},
     "output_type": "execute_result"
    },
    {
     "data": {
      "image/png": "[encoded data removed]",
      "text/plain": [
       "<Figure size 936x288 with 1 Axes>"
      ]
     },
     "metadata": {
      "needs_background": "light"
     },
     "output_type": "display_data"
    }
   ],
   "source": [
    "temp=new[0:24]['Dias']\n",
    "plt.figure(figsize=(13,4)) \n",
    "plt.xlabel(\"Time(t)\")\n",
    "plt.ylabel(\"Dias\")\n",
    "temp.plot(color='red')\n"
   ]
  },
  {
   "cell_type": "code",
   "execution_count": 30,
   "id": "9ddd8a72",
   "metadata": {},
   "outputs": [],
   "source": [
    "new.to_csv(r\"D:\\dataset_fyp\\1hourTS.csv\")"
   ]
  },
  {
   "cell_type": "code",
   "execution_count": null,
   "id": "a3e20cd4",
   "metadata": {},
   "outputs": [],
   "source": []
  },
  {
   "cell_type": "code",
   "execution_count": null,
   "id": "46c19021",
   "metadata": {},
   "outputs": [],
   "source": []
  }
 ],
 "metadata": {
  "kernelspec": {
   "display_name": "Python 3 (ipykernel)",
   "language": "python",
   "name": "python3"
  },
  "language_info": {
   "codemirror_mode": {
    "name": "ipython",
    "version": 3
   },
   "file_extension": ".py",
   "mimetype": "text/x-python",
   "name": "python",
   "nbconvert_exporter": "python",
   "pygments_lexer": "ipython3",
   "version": "3.9.7"
  }
 },
 "nbformat": 4,
 "nbformat_minor": 5
}
